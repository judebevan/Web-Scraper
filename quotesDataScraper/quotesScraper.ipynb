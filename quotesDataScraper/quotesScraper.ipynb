{
 "cells": [
  {
   "cell_type": "markdown",
   "metadata": {},
   "source": [
    "# Scraping Quotes to quotes.csv file"
   ]
  },
  {
   "cell_type": "code",
   "execution_count": 1,
   "metadata": {},
   "outputs": [
    {
     "name": "stdout",
     "output_type": "stream",
     "text": [
      "“The person, be it gentleman or lady, who has not pleasure in a good novel, must be intolerably stupid.” - Jane Austen\n",
      "“A day without sunshine is like, you know, night.” - Steve Martin\n",
      "“Anyone who thinks sitting in church can make you a Christian must also think that sitting in a garage can make you a car.” - Garrison Keillor\n",
      "“Beauty is in the eye of the beholder and it may be necessary from time to time to give a stupid or misinformed beholder a black eye.” - Jim Henson\n",
      "“All you need is love. But a little chocolate now and then doesn't hurt.” - Charles M. Schulz\n",
      "“Remember, we're madly in love, so it's all right to kiss me anytime you feel like it.” - Suzanne Collins\n",
      "“Some people never go crazy. What truly horrible lives they must lead.” - Charles Bukowski\n",
      "“The trouble with having an open mind, of course, is that people will insist on coming along and trying to put things in it.” - Terry Pratchett\n",
      "“Think left and think right and think low and think high. Oh, the thinks you can think up if only you try!” - Dr. Seuss\n",
      "“The reason I talk to myself is because I’m the only one whose answers I accept.” - George Carlin\n"
     ]
    }
   ],
   "source": [
    "import requests\n",
    "from bs4 import BeautifulSoup\n",
    "import csv\n",
    "\n",
    "page = requests.get(\"http://quotes.toscrape.com/tag/humor/\")\n",
    "soup = BeautifulSoup(page.text, \"html.parser\")\n",
    "quotes = soup.findAll(\"span\", attrs={\"class\":\"text\"})\n",
    "authors = soup.findAll(\"small\", attrs={\"class\":\"author\"})\n",
    "\n",
    "quotes_csv = open(\"quotes.csv\", \"w\")\n",
    "writer = csv.writer(quotes_csv)\n",
    "\n",
    "writer.writerow([\"Quote\", \"Author\"])\n",
    "\n",
    "for quote, author in zip(quotes,authors):\n",
    "    print(f\"{quote.text} - {author.text}\")\n",
    "    writer.writerow([quote.text, author.text])\n",
    "quotes_csv.close()"
   ]
  }
 ],
 "metadata": {
  "kernelspec": {
   "display_name": "Python 3",
   "language": "python",
   "name": "python3"
  },
  "language_info": {
   "codemirror_mode": {
    "name": "ipython",
    "version": 3
   },
   "file_extension": ".py",
   "mimetype": "text/x-python",
   "name": "python",
   "nbconvert_exporter": "python",
   "pygments_lexer": "ipython3",
   "version": "3.10.12"
  }
 },
 "nbformat": 4,
 "nbformat_minor": 5
}
