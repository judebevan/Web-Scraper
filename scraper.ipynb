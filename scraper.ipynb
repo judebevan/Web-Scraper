{
 "cells": [
  {
   "cell_type": "markdown",
   "metadata": {},
   "source": [
    "# Scraping Quotes to quotes.csv file"
   ]
  },
  {
   "cell_type": "code",
   "execution_count": null,
   "metadata": {
    "vscode": {
     "languageId": "plaintext"
    }
   },
   "outputs": [],
   "source": [
    "import requests\n",
    "from bs4 import BeautifulSoup\n",
    "import csv\n",
    "\n",
    "page = requests.get(\"http://quotes.toscrape.com/tag/humor/\")\n",
    "soup = BeautifulSoup(page.text, \"html.parser\")\n",
    "quotes = soup.findAll(\"span\", attrs={\"class\":\"text\"})\n",
    "authors = soup.findAll(\"small\", attrs={\"class\":\"author\"})\n",
    "\n",
    "quotes_csv = open(\"quotes.csv\", \"w\")\n",
    "writer = csv.writer(quotes_csv)\n",
    "\n",
    "writer.writerow([\"Quote\", \"Author\"])\n",
    "\n",
    "for quote, author in zip(quotes,authors):\n",
    "    print(f\"{quote.text} - {author.text}\")\n",
    "    writer.writerow([quote.text, author.text])\n",
    "quotes_csv.close()"
   ]
  }
 ],
 "metadata": {
  "kernelspec": {
   "display_name": "Python 3",
   "language": "python",
   "name": "python3"
  },
  "language_info": {
   "codemirror_mode": {
    "name": "ipython",
    "version": 2
   },
   "file_extension": ".py",
   "mimetype": "text/x-python",
   "name": "python",
   "nbconvert_exporter": "python",
   "pygments_lexer": "ipython2",
   "version": "2.7.6"
  }
 },
 "nbformat": 4,
 "nbformat_minor": 5
}
